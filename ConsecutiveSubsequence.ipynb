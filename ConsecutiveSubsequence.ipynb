{
 "cells": [
  {
   "cell_type": "code",
   "execution_count": 3,
   "id": "dc6c9c3c",
   "metadata": {},
   "outputs": [
    {
     "name": "stdout",
     "output_type": "stream",
     "text": [
      "Length of the Longest contiguous subsequence is 4\n"
     ]
    }
   ],
   "source": [
    "\n",
    "def findLongestConseqSubseq(arr, n):\n",
    "\n",
    "\tans = 0\n",
    "\tcount = 0\n",
    "\n",
    "\tarr.sort()\n",
    "\n",
    "\tv = []\n",
    "\n",
    "\tv.append(arr[0])\n",
    "\n",
    "\tfor i in range(1, n):\n",
    "\t\tif (arr[i] != arr[i - 1]):\n",
    "\t\t\tv.append(arr[i])\n",
    "\n",
    "\tfor i in range(len(v)):\n",
    "\n",
    "\t\tif (i > 0 and v[i] == v[i - 1] + 1):\n",
    "\t\t\tcount += 1\n",
    "\n",
    "\t\telse:\n",
    "\t\t\tcount = 1\n",
    "\n",
    "\t\tans = max(ans, count)\n",
    "\n",
    "\treturn ans\n",
    "\n",
    "\n",
    "arr = [1, 9, 3, 10, 4, 20, 2]\n",
    "n = len(arr)\n",
    "\n",
    "print(\"Length of the Longest contiguous subsequence is\",\n",
    "\tfindLongestConseqSubseq(arr, n))"
   ]
  },
  {
   "cell_type": "code",
   "execution_count": null,
   "id": "f92b815d",
   "metadata": {},
   "outputs": [],
   "source": []
  }
 ],
 "metadata": {
  "kernelspec": {
   "display_name": "Python 3 (ipykernel)",
   "language": "python",
   "name": "python3"
  },
  "language_info": {
   "codemirror_mode": {
    "name": "ipython",
    "version": 3
   },
   "file_extension": ".py",
   "mimetype": "text/x-python",
   "name": "python",
   "nbconvert_exporter": "python",
   "pygments_lexer": "ipython3",
   "version": "3.9.12"
  }
 },
 "nbformat": 4,
 "nbformat_minor": 5
}
